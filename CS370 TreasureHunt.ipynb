{
 "cells": [
  {
   "cell_type": "markdown",
   "metadata": {},
   "source": [
    "# Treasure Hunt Game Notebook\n",
    "\n",
    "## Read and Review Your Starter Code\n",
    "The theme of this project is a popular treasure hunt game in which the player needs to find the treasure before the pirate does. While you will not be developing the entire game, you will write the part of the game that represents the intelligent agent, which is a pirate in this case. The pirate will try to find the optimal path to the treasure using deep Q-learning. \n",
    "\n",
    "You have been provided with two Python classes and this notebook to help you with this assignment. The first class, TreasureMaze.py, represents the environment, which includes a maze object defined as a matrix. The second class, GameExperience.py, stores the episodes – that is, all the states that come in between the initial state and the terminal state. This is later used by the agent for learning by experience, called \"exploration\". This notebook shows how to play a game. Your task is to complete the deep Q-learning implementation for which a skeleton implementation has been provided. The code blocs you will need to complete has #TODO as a header.\n",
    "\n",
    "First, read and review the next few code and instruction blocks to understand the code that you have been given."
   ]
  },
  {
   "cell_type": "code",
   "execution_count": 10,
   "metadata": {},
   "outputs": [],
   "source": [
    "from __future__ import print_function\n",
    "import os, sys, time, datetime, json, random\n",
    "import numpy as np\n",
    "from keras.models import Sequential\n",
    "from keras.layers.core import Dense, Activation\n",
    "from keras.optimizers import SGD , Adam, RMSprop\n",
    "from keras.layers.advanced_activations import PReLU\n",
    "import matplotlib.pyplot as plt\n",
    "from TreasureMaze import TreasureMaze\n",
    "from GameExperience import GameExperience\n",
    "%matplotlib inline"
   ]
  },
  {
   "cell_type": "markdown",
   "metadata": {},
   "source": [
    "The following code block contains an 8x8 matrix that will be used as a maze object:"
   ]
  },
  {
   "cell_type": "code",
   "execution_count": 11,
   "metadata": {},
   "outputs": [],
   "source": [
    "maze = np.array([\n",
    "    [ 1.,  0.,  1.,  1.,  1.,  1.,  1.,  1.],\n",
    "    [ 1.,  0.,  1.,  1.,  1.,  0.,  1.,  1.],\n",
    "    [ 1.,  1.,  1.,  1.,  0.,  1.,  0.,  1.],\n",
    "    [ 1.,  1.,  1.,  0.,  1.,  1.,  1.,  1.],\n",
    "    [ 1.,  1.,  0.,  1.,  1.,  1.,  1.,  1.],\n",
    "    [ 1.,  1.,  1.,  0.,  1.,  0.,  0.,  0.],\n",
    "    [ 1.,  1.,  1.,  0.,  1.,  1.,  1.,  1.],\n",
    "    [ 1.,  1.,  1.,  1.,  0.,  1.,  1.,  1.]\n",
    "])"
   ]
  },
  {
   "cell_type": "markdown",
   "metadata": {},
   "source": [
    "This helper function allows a visual representation of the maze object:"
   ]
  },
  {
   "cell_type": "code",
   "execution_count": 12,
   "metadata": {},
   "outputs": [],
   "source": [
    "def show(qmaze):\n",
    "    plt.grid('on')\n",
    "    nrows, ncols = qmaze.maze.shape\n",
    "    ax = plt.gca()\n",
    "    ax.set_xticks(np.arange(0.5, nrows, 1))\n",
    "    ax.set_yticks(np.arange(0.5, ncols, 1))\n",
    "    ax.set_xticklabels([])\n",
    "    ax.set_yticklabels([])\n",
    "    canvas = np.copy(qmaze.maze)\n",
    "    for row,col in qmaze.visited:\n",
    "        canvas[row,col] = 0.6\n",
    "    pirate_row, pirate_col, _ = qmaze.state\n",
    "    canvas[pirate_row, pirate_col] = 0.3   # pirate cell\n",
    "    canvas[nrows-1, ncols-1] = 0.9 # treasure cell\n",
    "    img = plt.imshow(canvas, interpolation='none', cmap='gray')\n",
    "    return img"
   ]
  },
  {
   "cell_type": "markdown",
   "metadata": {},
   "source": [
    "The pirate agent can move in four directions: left, right, up, and down. \n",
    "\n",
    "While the agent primarily learns by experience through exploitation, often, the agent can choose to explore the environment to find previously undiscovered paths. This is called \"exploration\" and is defined by epsilon. This value is typically a lower value such as 0.1, which means for every ten attempts, the agent will attempt to learn by experience nine times and will randomly explore a new path one time. You are encouraged to try various values for the exploration factor and see how the algorithm performs."
   ]
  },
  {
   "cell_type": "code",
   "execution_count": 13,
   "metadata": {},
   "outputs": [],
   "source": [
    "LEFT = 0\n",
    "UP = 1\n",
    "RIGHT = 2\n",
    "DOWN = 3\n",
    "\n",
    "\n",
    "# Exploration factor\n",
    "epsilon = 0.1\n",
    "\n",
    "# Actions dictionary\n",
    "actions_dict = {\n",
    "    LEFT: 'left',\n",
    "    UP: 'up',\n",
    "    RIGHT: 'right',\n",
    "    DOWN: 'down',\n",
    "}\n",
    "\n",
    "num_actions = len(actions_dict)\n"
   ]
  },
  {
   "cell_type": "markdown",
   "metadata": {},
   "source": [
    "The sample code block and output below show creating a maze object and performing one action (DOWN), which returns the reward. The resulting updated environment is visualized."
   ]
  },
  {
   "cell_type": "code",
   "execution_count": 14,
   "metadata": {},
   "outputs": [
    {
     "name": "stdout",
     "output_type": "stream",
     "text": [
      "reward= -0.04\n"
     ]
    },
    {
     "data": {
      "text/plain": [
       "<matplotlib.image.AxesImage at 0x2978a0abe08>"
      ]
     },
     "execution_count": 14,
     "metadata": {},
     "output_type": "execute_result"
    },
    {
     "data": {
      "image/png": "[encoded data removed]",
      "text/plain": [
       "<Figure size 432x288 with 1 Axes>"
      ]
     },
     "metadata": {
      "needs_background": "light"
     },
     "output_type": "display_data"
    }
   ],
   "source": [
    "qmaze = TreasureMaze(maze)\n",
    "canvas, reward, game_over = qmaze.act(DOWN)\n",
    "print(\"reward=\", reward)\n",
    "show(qmaze)"
   ]
  },
  {
   "cell_type": "markdown",
   "metadata": {},
   "source": [
    "This function simulates a full game based on the provided trained model. The other parameters include the TreasureMaze object and the starting position of the pirate."
   ]
  },
  {
   "cell_type": "code",
   "execution_count": 15,
   "metadata": {},
   "outputs": [],
   "source": [
    "def play_game(model, qmaze, pirate_cell):\n",
    "    qmaze.reset(pirate_cell)\n",
    "    envstate = qmaze.observe()\n",
    "    while True:\n",
    "        prev_envstate = envstate\n",
    "        # get next action\n",
    "        q = model.predict(prev_envstate)\n",
    "        action = np.argmax(q[0])\n",
    "\n",
    "        # apply action, get rewards and new state\n",
    "        envstate, reward, game_status = qmaze.act(action)\n",
    "        if game_status == 'win':\n",
    "            return True\n",
    "        elif game_status == 'lose':\n",
    "            return False"
   ]
  },
  {
   "cell_type": "markdown",
   "metadata": {},
   "source": [
    "This function helps you to determine whether the pirate can win any game at all. If your maze is not well designed, the pirate may not win any game at all. In this case, your training would not yield any result. The provided maze in this notebook ensures that there is a path to win and you can run this method to check."
   ]
  },
  {
   "cell_type": "code",
   "execution_count": 16,
   "metadata": {},
   "outputs": [],
   "source": [
    "def completion_check(model, qmaze):\n",
    "    for cell in qmaze.free_cells:\n",
    "        if not qmaze.valid_actions(cell):\n",
    "            return False\n",
    "        if not play_game(model, qmaze, cell):\n",
    "            return False\n",
    "    return True"
   ]
  },
  {
   "cell_type": "markdown",
   "metadata": {},
   "source": [
    "The code you have been given in this block will build the neural network model. Review the code and note the number of layers, as well as the activation, optimizer, and loss functions that are used to train the model."
   ]
  },
  {
   "cell_type": "code",
   "execution_count": 17,
   "metadata": {},
   "outputs": [],
   "source": [
    "def build_model(maze):\n",
    "    model = Sequential()\n",
    "    model.add(Dense(maze.size, input_shape=(maze.size,)))\n",
    "    model.add(PReLU())\n",
    "    model.add(Dense(maze.size))\n",
    "    model.add(PReLU())\n",
    "    model.add(Dense(num_actions))\n",
    "    model.compile(optimizer='adam', loss='mse')\n",
    "    return model"
   ]
  },
  {
   "cell_type": "markdown",
   "metadata": {},
   "source": [
    "# #TODO: Complete the Q-Training Algorithm Code Block\n",
    "\n",
    "This is your deep Q-learning implementation. The goal of your deep Q-learning implementation is to find the best possible navigation sequence that results in reaching the treasure cell while maximizing the reward. In your implementation, you need to determine the optimal number of epochs to achieve a 100% win rate.\n",
    "\n",
    "You will need to complete the section starting with #pseudocode. The pseudocode has been included for you."
   ]
  },
  {
   "cell_type": "code",
   "execution_count": 18,
   "metadata": {},
   "outputs": [],
   "source": [
    "def qtrain(model, maze, **opt):\n",
    "\n",
    "    # exploration factor\n",
    "    global epsilon \n",
    "\n",
    "    # number of epochs\n",
    "    n_epoch = opt.get('epochs', 15000)\n",
    "\n",
    "    # maximum memory to store episodes\n",
    "    max_memory = opt.get('max_memory', 1000)\n",
    "\n",
    "    # maximum data size for training\n",
    "    data_size = opt.get('data_size', 50)\n",
    "\n",
    "    # start time\n",
    "    start_time = datetime.datetime.now()\n",
    "\n",
    "    # Construct environment/game from numpy array: maze (see above)\n",
    "    qmaze = TreasureMaze(maze)\n",
    "\n",
    "    # Initialize experience replay object\n",
    "    experience = GameExperience(model, max_memory=max_memory)\n",
    "    \n",
    "    win_history = []   # history of win/lose game\n",
    "    hsize = qmaze.maze.size//2   # history window size\n",
    "    win_rate = 0.0\n",
    "    loss = 0\n",
    "    epoch=0\n",
    "    n_episodes = 0\n",
    "    game_over = False\n",
    "     \n",
    "    # pseudocode:\n",
    "    # For each epoch:\n",
    "    for epoch in range(n_epoch):\n",
    "\n",
    "        \n",
    "        #    Agent_cell = randomly select a free cell\n",
    "        Agent_cell = random.choice(qmaze.free_cells)\n",
    "    \n",
    "        #    Reset the maze with agent set to above position\n",
    "        #    Hint: Review the reset method in the TreasureMaze.py class.\n",
    "        qmaze.reset(Agent_cell)\n",
    "        \n",
    "        #    envstate = Environment.current_state\n",
    "        #    Hint: Review the observe method in the TreasureMaze.py class.\n",
    "        envstate = qmaze.observe()\n",
    "        \n",
    "        # reset the game status so that we enter the loop\n",
    "        game_over= False\n",
    "        \n",
    "        # reset the number of episodes to completion\n",
    "        n_episodes = 0\n",
    "        \n",
    "        #    While state is not game over:\n",
    "        while not game_over:\n",
    "            #setting the previous state so that we can change the current state\n",
    "            previous_envstate = envstate\n",
    "            \n",
    "            # getting our experience to predict the next move\n",
    "            q = experience.predict(previous_envstate)\n",
    "            \n",
    "            # get the largest number location which has the highest q score\n",
    "            a = np.argmax(q)\n",
    "            \n",
    "            # get all valid actions\n",
    "            allActions = qmaze.valid_actions()\n",
    "            \n",
    "            #if there are no valid actions, then I break out of this loop\n",
    "            if not allActions:\n",
    "                break\n",
    "                \n",
    "            #I create a random number.  If that number is less than my epsilon, then I perform a random action\n",
    "            # otherwise, I choose the action from my prediction\n",
    "            if np.random.rand() < epsilon:\n",
    "                actionInt = random.choice(allActions)\n",
    "            else:\n",
    "                actionInt = a\n",
    "            \n",
    "            #I perform my action\n",
    "            envstate, reward, game_status = qmaze.act(actionInt)\n",
    "            \n",
    "            # if I won or loss, then game over will happen and we will break out of the loop on the next iteration\n",
    "            # otherwise we will continue in this episode loop\n",
    "            if game_status == 'win':\n",
    "                game_over = True\n",
    "            elif game_status == 'lose':\n",
    "                game_over = True\n",
    "            else:\n",
    "                game_over = False\n",
    "        \n",
    "            # Store episode in Experience replay object\n",
    "            episode = [previous_envstate, actionInt, reward, envstate, game_over]\n",
    "            experience.remember(episode)\n",
    "            n_episodes += 1\n",
    "\n",
    "    \n",
    "            #        Train neural network model and evaluate loss\n",
    "            inputs,targets = experience.get_data(data_size=data_size)\n",
    "            model.fit(inputs, targets,epochs=8,batch_size=16,verbose=0)\n",
    "            loss = model.evaluate(inputs, targets,verbose=0)\n",
    "            \n",
    "        #  if I won, then I append 1 to the win history, if I lose, then I append 0\n",
    "        if (game_status == 'win'):\n",
    "            win_history.append(1)\n",
    "        if (game_status == 'lose'):\n",
    "            win_history.append(0)\n",
    "\n",
    "        # I check to see if my history length is greater than my hsize\n",
    "        # if it is, I take the last hsize amount of items in the list.  (createing a sublist)\n",
    "        # then I get the winning percentage based on those entries\n",
    "        # otherwise, my win_history is just based on the sum/size of win_history\n",
    "        if len(win_history) > hsize:\n",
    "            winning = win_history[(len(win_history)-hsize):]\n",
    "            win_rate = sum(winning) / len(winning)\n",
    "        else:\n",
    "            win_rate = sum(win_history) / len(win_history)\n",
    "        \n",
    "\n",
    "        #Print the epoch, loss, episodes, win count, and win rate for each epoch\n",
    "        dt = datetime.datetime.now() - start_time\n",
    "        t = format_time(dt.total_seconds())\n",
    "        template = \"Epoch: {:03d}/{:d} | Loss: {:.4f} | Episodes: {:d} | Win count: {:d} | Win rate: {:.3f} | time: {}\"\n",
    "        print(template.format(epoch, n_epoch-1, loss, n_episodes, sum(win_history), win_rate, t))\n",
    "        # We simply check if training has exhausted all free cells and if in all\n",
    "        # cases the agent won.\n",
    "        if win_rate > 0.9 : epsilon = 0.05\n",
    "        if sum(win_history[-hsize:]) == hsize and completion_check(model, qmaze):\n",
    "            print(\"Reached 100%% win rate at epoch: %d\" % (epoch,))\n",
    "            break\n",
    "    \n",
    "    \n",
    "    # Determine the total time for training\n",
    "    dt = datetime.datetime.now() - start_time\n",
    "    seconds = dt.total_seconds()\n",
    "    t = format_time(seconds)\n",
    "\n",
    "    print(\"n_epoch: %d, max_mem: %d, data: %d, time: %s\" % (epoch, max_memory, data_size, t))\n",
    "    return seconds\n",
    "\n",
    "# This is a small utility for printing readable time strings:\n",
    "def format_time(seconds):\n",
    "    if seconds < 400:\n",
    "        s = float(seconds)\n",
    "        return \"%.1f seconds\" % (s,)\n",
    "    elif seconds < 4000:\n",
    "        m = seconds / 60.0\n",
    "        return \"%.2f minutes\" % (m,)\n",
    "    else:\n",
    "        h = seconds / 3600.0\n",
    "        return \"%.2f hours\" % (h,)"
   ]
  },
  {
   "cell_type": "markdown",
   "metadata": {},
   "source": [
    "## Test Your Model\n",
    "\n",
    "Now we will start testing the deep Q-learning implementation. To begin, select **Cell**, then **Run All** from the menu bar. This will run your notebook. As it runs, you should see output begin to appear beneath the next few cells. The code below creates an instance of TreasureMaze."
   ]
  },
  {
   "cell_type": "code",
   "execution_count": 19,
   "metadata": {},
   "outputs": [
    {
     "data": {
      "text/plain": [
       "<matplotlib.image.AxesImage at 0x2978a11a548>"
      ]
     },
     "execution_count": 19,
     "metadata": {},
     "output_type": "execute_result"
    },
    {
     "data": {
      "image/png": "[encoded data removed]",
      "text/plain": [
       "<Figure size 432x288 with 1 Axes>"
      ]
     },
     "metadata": {
      "needs_background": "light"
     },
     "output_type": "display_data"
    }
   ],
   "source": [
    "qmaze = TreasureMaze(maze)\n",
    "show(qmaze)"
   ]
  },
  {
   "cell_type": "markdown",
   "metadata": {},
   "source": [
    "In the next code block, you will build your model and train it using deep Q-learning. Note: This step takes several minutes to fully run."
   ]
  },
  {
   "cell_type": "code",
   "execution_count": 20,
   "metadata": {},
   "outputs": [
    {
     "name": "stdout",
     "output_type": "stream",
     "text": [
      "Epoch: 000/999 | Loss: 0.0022 | Episodes: 144 | Win count: 0 | Win rate: 0.000 | time: 16.6 seconds\n",
      "Epoch: 001/999 | Loss: 0.0010 | Episodes: 20 | Win count: 1 | Win rate: 0.500 | time: 18.8 seconds\n",
      "Epoch: 002/999 | Loss: 0.0035 | Episodes: 139 | Win count: 1 | Win rate: 0.333 | time: 34.9 seconds\n",
      "Epoch: 003/999 | Loss: 0.0028 | Episodes: 10 | Win count: 2 | Win rate: 0.500 | time: 36.0 seconds\n",
      "Epoch: 004/999 | Loss: 0.0067 | Episodes: 3 | Win count: 3 | Win rate: 0.600 | time: 36.3 seconds\n",
      "Epoch: 005/999 | Loss: 0.0028 | Episodes: 141 | Win count: 3 | Win rate: 0.500 | time: 52.1 seconds\n",
      "Epoch: 006/999 | Loss: 0.0029 | Episodes: 136 | Win count: 3 | Win rate: 0.429 | time: 67.2 seconds\n",
      "Epoch: 007/999 | Loss: 0.0068 | Episodes: 139 | Win count: 3 | Win rate: 0.375 | time: 82.9 seconds\n",
      "Epoch: 008/999 | Loss: 0.0484 | Episodes: 151 | Win count: 3 | Win rate: 0.333 | time: 102.5 seconds\n",
      "Epoch: 009/999 | Loss: 0.0022 | Episodes: 150 | Win count: 3 | Win rate: 0.300 | time: 119.4 seconds\n",
      "Epoch: 010/999 | Loss: 0.0013 | Episodes: 2 | Win count: 4 | Win rate: 0.364 | time: 119.6 seconds\n",
      "Epoch: 011/999 | Loss: 0.0028 | Episodes: 141 | Win count: 4 | Win rate: 0.333 | time: 135.0 seconds\n",
      "Epoch: 012/999 | Loss: 0.0015 | Episodes: 150 | Win count: 4 | Win rate: 0.308 | time: 151.2 seconds\n",
      "Epoch: 013/999 | Loss: 0.0020 | Episodes: 137 | Win count: 4 | Win rate: 0.286 | time: 166.3 seconds\n",
      "Epoch: 014/999 | Loss: 0.0014 | Episodes: 2 | Win count: 5 | Win rate: 0.333 | time: 166.5 seconds\n",
      "Epoch: 015/999 | Loss: 0.0016 | Episodes: 138 | Win count: 5 | Win rate: 0.312 | time: 181.4 seconds\n",
      "Epoch: 016/999 | Loss: 0.0020 | Episodes: 139 | Win count: 5 | Win rate: 0.294 | time: 196.6 seconds\n",
      "Epoch: 017/999 | Loss: 0.0823 | Episodes: 109 | Win count: 6 | Win rate: 0.333 | time: 208.1 seconds\n",
      "Epoch: 018/999 | Loss: 0.0441 | Episodes: 137 | Win count: 6 | Win rate: 0.316 | time: 223.4 seconds\n",
      "Epoch: 019/999 | Loss: 0.0022 | Episodes: 140 | Win count: 6 | Win rate: 0.300 | time: 239.0 seconds\n",
      "Epoch: 020/999 | Loss: 0.0018 | Episodes: 139 | Win count: 6 | Win rate: 0.286 | time: 254.2 seconds\n",
      "Epoch: 021/999 | Loss: 0.0448 | Episodes: 10 | Win count: 7 | Win rate: 0.318 | time: 255.3 seconds\n",
      "Epoch: 022/999 | Loss: 0.0020 | Episodes: 139 | Win count: 7 | Win rate: 0.304 | time: 270.5 seconds\n",
      "Epoch: 023/999 | Loss: 0.0025 | Episodes: 31 | Win count: 8 | Win rate: 0.333 | time: 275.0 seconds\n",
      "Epoch: 024/999 | Loss: 0.0026 | Episodes: 6 | Win count: 9 | Win rate: 0.360 | time: 275.8 seconds\n",
      "Epoch: 025/999 | Loss: 0.0070 | Episodes: 73 | Win count: 10 | Win rate: 0.385 | time: 286.2 seconds\n",
      "Epoch: 026/999 | Loss: 0.0239 | Episodes: 1 | Win count: 11 | Win rate: 0.407 | time: 286.3 seconds\n",
      "Epoch: 027/999 | Loss: 0.0069 | Episodes: 54 | Win count: 12 | Win rate: 0.429 | time: 293.4 seconds\n",
      "Epoch: 028/999 | Loss: 0.0140 | Episodes: 141 | Win count: 12 | Win rate: 0.414 | time: 312.4 seconds\n",
      "Epoch: 029/999 | Loss: 0.0122 | Episodes: 17 | Win count: 13 | Win rate: 0.433 | time: 314.7 seconds\n",
      "Epoch: 030/999 | Loss: 0.0190 | Episodes: 146 | Win count: 14 | Win rate: 0.452 | time: 333.4 seconds\n",
      "Epoch: 031/999 | Loss: 0.0040 | Episodes: 136 | Win count: 15 | Win rate: 0.469 | time: 350.9 seconds\n",
      "Epoch: 032/999 | Loss: 0.0034 | Episodes: 25 | Win count: 16 | Win rate: 0.500 | time: 354.0 seconds\n",
      "Epoch: 033/999 | Loss: 0.0037 | Episodes: 17 | Win count: 17 | Win rate: 0.500 | time: 357.2 seconds\n",
      "Epoch: 034/999 | Loss: 0.0020 | Episodes: 22 | Win count: 18 | Win rate: 0.531 | time: 360.3 seconds\n",
      "Epoch: 035/999 | Loss: 0.0016 | Episodes: 17 | Win count: 19 | Win rate: 0.531 | time: 362.4 seconds\n",
      "Epoch: 036/999 | Loss: 0.0032 | Episodes: 14 | Win count: 20 | Win rate: 0.531 | time: 364.5 seconds\n",
      "Epoch: 037/999 | Loss: 0.0021 | Episodes: 125 | Win count: 21 | Win rate: 0.562 | time: 380.5 seconds\n",
      "Epoch: 038/999 | Loss: 0.0102 | Episodes: 93 | Win count: 22 | Win rate: 0.594 | time: 392.1 seconds\n",
      "Epoch: 039/999 | Loss: 0.0021 | Episodes: 20 | Win count: 23 | Win rate: 0.625 | time: 394.8 seconds\n",
      "Epoch: 040/999 | Loss: 0.0020 | Episodes: 26 | Win count: 24 | Win rate: 0.656 | time: 398.1 seconds\n",
      "Epoch: 041/999 | Loss: 0.0017 | Episodes: 8 | Win count: 25 | Win rate: 0.688 | time: 399.1 seconds\n",
      "Epoch: 042/999 | Loss: 0.0009 | Episodes: 50 | Win count: 26 | Win rate: 0.688 | time: 6.76 minutes\n",
      "Epoch: 043/999 | Loss: 0.0051 | Episodes: 24 | Win count: 27 | Win rate: 0.719 | time: 6.81 minutes\n",
      "Epoch: 044/999 | Loss: 0.0032 | Episodes: 12 | Win count: 28 | Win rate: 0.750 | time: 6.84 minutes\n",
      "Epoch: 045/999 | Loss: 0.0009 | Episodes: 10 | Win count: 29 | Win rate: 0.781 | time: 6.86 minutes\n",
      "Epoch: 046/999 | Loss: 0.0008 | Episodes: 19 | Win count: 30 | Win rate: 0.781 | time: 6.90 minutes\n",
      "Epoch: 047/999 | Loss: 0.0057 | Episodes: 18 | Win count: 31 | Win rate: 0.812 | time: 6.94 minutes\n",
      "Epoch: 048/999 | Loss: 0.0021 | Episodes: 2 | Win count: 32 | Win rate: 0.844 | time: 6.95 minutes\n",
      "Epoch: 049/999 | Loss: 0.0007 | Episodes: 7 | Win count: 33 | Win rate: 0.844 | time: 6.96 minutes\n",
      "Epoch: 050/999 | Loss: 0.0009 | Episodes: 2 | Win count: 34 | Win rate: 0.875 | time: 6.97 minutes\n",
      "Epoch: 051/999 | Loss: 0.0007 | Episodes: 18 | Win count: 35 | Win rate: 0.906 | time: 7.01 minutes\n",
      "Epoch: 052/999 | Loss: 0.0013 | Episodes: 13 | Win count: 36 | Win rate: 0.938 | time: 7.03 minutes\n",
      "Epoch: 053/999 | Loss: 0.0005 | Episodes: 7 | Win count: 37 | Win rate: 0.938 | time: 7.05 minutes\n",
      "Epoch: 054/999 | Loss: 0.0007 | Episodes: 10 | Win count: 38 | Win rate: 0.969 | time: 7.07 minutes\n",
      "Epoch: 055/999 | Loss: 0.0040 | Episodes: 24 | Win count: 39 | Win rate: 0.969 | time: 7.12 minutes\n",
      "Epoch: 056/999 | Loss: 0.0011 | Episodes: 24 | Win count: 40 | Win rate: 0.969 | time: 7.18 minutes\n",
      "Epoch: 057/999 | Loss: 0.0008 | Episodes: 18 | Win count: 41 | Win rate: 0.969 | time: 7.22 minutes\n",
      "Epoch: 058/999 | Loss: 0.0020 | Episodes: 21 | Win count: 42 | Win rate: 0.969 | time: 7.27 minutes\n",
      "Epoch: 059/999 | Loss: 0.0014 | Episodes: 14 | Win count: 43 | Win rate: 0.969 | time: 7.31 minutes\n",
      "Epoch: 060/999 | Loss: 0.0003 | Episodes: 25 | Win count: 44 | Win rate: 1.000 | time: 7.39 minutes\n",
      "Epoch: 061/999 | Loss: 0.0003 | Episodes: 5 | Win count: 45 | Win rate: 1.000 | time: 7.42 minutes\n",
      "Epoch: 062/999 | Loss: 0.0015 | Episodes: 10 | Win count: 46 | Win rate: 1.000 | time: 7.45 minutes\n",
      "Reached 100% win rate at epoch: 62\n",
      "n_epoch: 62, max_mem: 512, data: 32, time: 7.47 minutes\n"
     ]
    },
    {
     "data": {
      "text/plain": [
       "448.105504"
      ]
     },
     "execution_count": 20,
     "metadata": {},
     "output_type": "execute_result"
    }
   ],
   "source": [
    "model = build_model(maze)\n",
    "qtrain(model, maze, epochs=1000, max_memory=8*maze.size, data_size=32)"
   ]
  },
  {
   "cell_type": "markdown",
   "metadata": {},
   "source": [
    "This cell will check to see if the model passes the completion check. Note: This could take several minutes."
   ]
  },
  {
   "cell_type": "code",
   "execution_count": 21,
   "metadata": {},
   "outputs": [
    {
     "data": {
      "text/plain": [
       "<matplotlib.image.AxesImage at 0x2978a7e9088>"
      ]
     },
     "execution_count": 21,
     "metadata": {},
     "output_type": "execute_result"
    },
    {
     "data": {
      "image/png": "[encoded data removed]",
      "text/plain": [
       "<Figure size 432x288 with 1 Axes>"
      ]
     },
     "metadata": {
      "needs_background": "light"
     },
     "output_type": "display_data"
    }
   ],
   "source": [
    "completion_check(model, qmaze)\n",
    "show(qmaze)"
   ]
  },
  {
   "cell_type": "markdown",
   "metadata": {},
   "source": [
    "This cell will test your model for one game. It will start the pirate at the top-left corner and run play_game. The agent should find a path from the starting position to the target (treasure). The treasure is located in the bottom-right corner."
   ]
  },
  {
   "cell_type": "code",
   "execution_count": 22,
   "metadata": {},
   "outputs": [
    {
     "data": {
      "text/plain": [
       "<matplotlib.image.AxesImage at 0x29790855ec8>"
      ]
     },
     "execution_count": 22,
     "metadata": {},
     "output_type": "execute_result"
    },
    {
     "data": {
      "image/png": "[encoded data removed]",
      "text/plain": [
       "<Figure size 432x288 with 1 Axes>"
      ]
     },
     "metadata": {
      "needs_background": "light"
     },
     "output_type": "display_data"
    }
   ],
   "source": [
    "pirate_start = (0, 0)\n",
    "play_game(model, qmaze, pirate_start)\n",
    "show(qmaze)"
   ]
  },
  {
   "cell_type": "markdown",
   "metadata": {},
   "source": [
    "## Save and Submit Your Work\n",
    "After you have finished creating the code for your notebook, save your work. Make sure that your notebook contains your name in the filename (e.g. Doe_Jane_ProjectTwo.ipynb). This will help your instructor access and grade your work easily. Download a copy of your IPYNB file and submit it to Brightspace. Refer to the Jupyter Notebook in Apporto Tutorial if you need help with these tasks."
   ]
  }
 ],
 "metadata": {
  "kernelspec": {
   "display_name": "Python 3",
   "language": "python",
   "name": "python3"
  },
  "language_info": {
   "codemirror_mode": {
    "name": "ipython",
    "version": 3
   },
   "file_extension": ".py",
   "mimetype": "text/x-python",
   "name": "python",
   "nbconvert_exporter": "python",
   "pygments_lexer": "ipython3",
   "version": "3.7.4"
  }
 },
 "nbformat": 4,
 "nbformat_minor": 2
}
